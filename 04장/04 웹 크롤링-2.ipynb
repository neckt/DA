{
 "cells": [
  {
   "cell_type": "markdown",
   "metadata": {
    "id": "XFLZbADSDywv"
   },
   "source": [
    "### **1. 셀레니움 설치와 실행**"
   ]
  },
  {
   "cell_type": "code",
   "execution_count": 1,
   "metadata": {
    "id": "Ca45neXiQS22"
   },
   "outputs": [
    {
     "name": "stderr",
     "output_type": "stream",
     "text": [
      "'sudo'은(는) 내부 또는 외부 명령, 실행할 수 있는 프로그램, 또는\n",
      "배치 파일이 아닙니다.\n",
      "'sudo'은(는) 내부 또는 외부 명령, 실행할 수 있는 프로그램, 또는\n",
      "배치 파일이 아닙니다.\n",
      "'sudo'은(는) 내부 또는 외부 명령, 실행할 수 있는 프로그램, 또는\n",
      "배치 파일이 아닙니다.\n",
      "'sudo'은(는) 내부 또는 외부 명령, 실행할 수 있는 프로그램, 또는\n",
      "배치 파일이 아닙니다.\n",
      "WARNING: Ignoring invalid distribution - (c:\\users\\neckt\\anaconda3\\lib\\site-packages)\n",
      "WARNING: Ignoring invalid distribution -illow (c:\\users\\neckt\\anaconda3\\lib\\site-packages)\n",
      "WARNING: Ignoring invalid distribution -orch (c:\\users\\neckt\\anaconda3\\lib\\site-packages)\n",
      "WARNING: Ignoring invalid distribution - (c:\\users\\neckt\\anaconda3\\lib\\site-packages)\n",
      "WARNING: Ignoring invalid distribution -illow (c:\\users\\neckt\\anaconda3\\lib\\site-packages)\n",
      "WARNING: Ignoring invalid distribution -orch (c:\\users\\neckt\\anaconda3\\lib\\site-packages)\n",
      "WARNING: Ignoring invalid distribution - (c:\\users\\neckt\\anaconda3\\lib\\site-packages)\n",
      "WARNING: Ignoring invalid distribution -illow (c:\\users\\neckt\\anaconda3\\lib\\site-packages)\n",
      "WARNING: Ignoring invalid distribution -orch (c:\\users\\neckt\\anaconda3\\lib\\site-packages)\n",
      "\n",
      "[notice] A new release of pip is available: 23.2.1 -> 24.3.1\n",
      "[notice] To update, run: python.exe -m pip install --upgrade pip\n"
     ]
    },
    {
     "name": "stdout",
     "output_type": "stream",
     "text": [
      "Requirement already satisfied: selenium in c:\\users\\neckt\\anaconda3\\lib\\site-packages (4.11.2)\n",
      "Requirement already satisfied: urllib3<3,>=1.26 in c:\\users\\neckt\\anaconda3\\lib\\site-packages (from urllib3[socks]<3,>=1.26->selenium) (2.2.2)\n",
      "Requirement already satisfied: trio~=0.17 in c:\\users\\neckt\\anaconda3\\lib\\site-packages (from selenium) (0.22.2)\n",
      "Requirement already satisfied: trio-websocket~=0.9 in c:\\users\\neckt\\anaconda3\\lib\\site-packages (from selenium) (0.10.3)\n",
      "Requirement already satisfied: certifi>=2021.10.8 in c:\\users\\neckt\\anaconda3\\lib\\site-packages (from selenium) (2024.7.4)\n",
      "Requirement already satisfied: attrs>=20.1.0 in c:\\users\\neckt\\anaconda3\\lib\\site-packages (from trio~=0.17->selenium) (24.1.0)\n",
      "Requirement already satisfied: sortedcontainers in c:\\users\\neckt\\anaconda3\\lib\\site-packages (from trio~=0.17->selenium) (2.4.0)\n",
      "Requirement already satisfied: idna in c:\\users\\neckt\\anaconda3\\lib\\site-packages (from trio~=0.17->selenium) (3.7)\n",
      "Requirement already satisfied: outcome in c:\\users\\neckt\\anaconda3\\lib\\site-packages (from trio~=0.17->selenium) (1.2.0)\n",
      "Requirement already satisfied: sniffio in c:\\users\\neckt\\anaconda3\\lib\\site-packages (from trio~=0.17->selenium) (1.3.1)\n",
      "Requirement already satisfied: cffi>=1.14 in c:\\users\\neckt\\anaconda3\\lib\\site-packages (from trio~=0.17->selenium) (1.16.0)\n",
      "Requirement already satisfied: exceptiongroup>=1.0.0rc9 in c:\\users\\neckt\\anaconda3\\lib\\site-packages (from trio~=0.17->selenium) (1.2.2)\n",
      "Requirement already satisfied: wsproto>=0.14 in c:\\users\\neckt\\anaconda3\\lib\\site-packages (from trio-websocket~=0.9->selenium) (1.2.0)\n",
      "Requirement already satisfied: pysocks!=1.5.7,<2.0,>=1.5.6 in c:\\users\\neckt\\anaconda3\\lib\\site-packages (from urllib3[socks]<3,>=1.26->selenium) (1.7.1)\n",
      "Requirement already satisfied: pycparser in c:\\users\\neckt\\anaconda3\\lib\\site-packages (from cffi>=1.14->trio~=0.17->selenium) (2.22)\n",
      "Requirement already satisfied: h11<1,>=0.9.0 in c:\\users\\neckt\\anaconda3\\lib\\site-packages (from wsproto>=0.14->trio-websocket~=0.9->selenium) (0.14.0)\n"
     ]
    },
    {
     "name": "stderr",
     "output_type": "stream",
     "text": [
      "'apt-get'은(는) 내부 또는 외부 명령, 실행할 수 있는 프로그램, 또는\n",
      "배치 파일이 아닙니다.\n",
      "'apt'은(는) 내부 또는 외부 명령, 실행할 수 있는 프로그램, 또는\n",
      "배치 파일이 아닙니다.\n",
      "'cp'은(는) 내부 또는 외부 명령, 실행할 수 있는 프로그램, 또는\n",
      "배치 파일이 아닙니다.\n"
     ]
    }
   ],
   "source": [
    "#코드 4-1\n",
    "import sys\n",
    "\n",
    "!sudo add-apt-repository ppa:saiarcot895/chromium-beta #실행 결과에서 Enter 입력\n",
    "!sudo apt remove chromium-browser\n",
    "!sudo snap remove chromium\n",
    "!sudo apt install chromium-browser\n",
    "\n",
    "!pip3 install selenium\n",
    "!apt-get update\n",
    "!apt install chromium-chromedriver\n",
    "!cp /usr/lib/chromium-browser/chromedriver /usr/bin\n",
    "\n",
    "sys.path.insert(0,'/usr/lib/chromium-browser/chromedriver')"
   ]
  },
  {
   "cell_type": "code",
   "execution_count": null,
   "metadata": {
    "id": "WvF1wwiZQ3my"
   },
   "outputs": [],
   "source": [
    "#코드 4-2\n",
    "from selenium import webdriver\n",
    "from selenium.webdriver.common.keys import Keys"
   ]
  },
  {
   "cell_type": "code",
   "execution_count": null,
   "metadata": {
    "id": "N2bacFYkQ7nF"
   },
   "outputs": [],
   "source": [
    "#코드 4-3\n",
    "options = webdriver.ChromeOptions()\n",
    "options.add_argument('--headless') #창이 나타나지 않도록 Headless 설정하기\n",
    "options.add_argument('--no-sandbox')\n",
    "options.add_argument('--disable-dev-shm-usage')\n",
    "driver = webdriver.Chrome('chromedriver', options=options)"
   ]
  },
  {
   "cell_type": "markdown",
   "metadata": {
    "id": "Z3HPWn-CD0O2"
   },
   "source": [
    "### **2. 셀레니움 웹 크롤링**"
   ]
  },
  {
   "cell_type": "code",
   "execution_count": null,
   "metadata": {
    "id": "T5_Rp2LeRQEP"
   },
   "outputs": [],
   "source": [
    "#코드 4-4\n",
    "url = 'http://ncov.kdca.go.kr/'\n",
    "\n",
    "driver.get(url)"
   ]
  },
  {
   "cell_type": "code",
   "execution_count": null,
   "metadata": {
    "id": "GuSQKdxnmaHe"
   },
   "outputs": [],
   "source": [
    "#코드 4-5\n",
    "topnews = driver.find_element('xpath','//*[@id=\"content\"]/div/div/div/div[1]/\\\n",
    "                              div[2]/div/ul/li[1]/a')\n",
    "\n",
    "print(topnews.text)"
   ]
  },
  {
   "cell_type": "code",
   "execution_count": null,
   "metadata": {
    "id": "uFcZBH_Lkbqo"
   },
   "outputs": [],
   "source": [
    "#코드 4-6\n",
    "topnews = driver.find_elements('xpath','//*[@id=\"content\"]/div/div/div/div[1]/\\\n",
    "                               div[2]/div/ul')\n",
    "\n",
    "#여러 개의 텍스트를 리스트 topnews에 정리하기\n",
    "topnews = [topnew.text for topnew in topnews]\n",
    "\n",
    "print(topnews)"
   ]
  },
  {
   "cell_type": "code",
   "execution_count": null,
   "metadata": {
    "id": "MetdYpRFxGtl"
   },
   "outputs": [],
   "source": [
    "#코드 4-7\n",
    "button = driver.find_element('xpath','//*[@id=\"header\"]/div/div[2]/a[1]')\n",
    "print(button.text)\n",
    "button.click()"
   ]
  },
  {
   "cell_type": "code",
   "execution_count": null,
   "metadata": {
    "id": "dS7nftIO-zG-"
   },
   "outputs": [],
   "source": [
    "#코드 4-8\n",
    "driver.find_element('xpath','//*[@id=\"searchTermMobile123\"]').click()\n",
    "driver.find_element('xpath','//*[@id=\"searchTermMobile123\"]').send_keys('서울')\n",
    "\n",
    "driver.find_element('xpath','//*[@id=\"searchTermMobile123\"]').send_keys(Keys.ENTER)"
   ]
  },
  {
   "cell_type": "code",
   "execution_count": null,
   "metadata": {
    "id": "7npA6Ryl-8ZS"
   },
   "outputs": [],
   "source": [
    "# driver.find_element('xpath','//*[@id=\"header\"]/div/div[2]/a[1]').click()\n",
    "# driver.find_element('xpath','//*[@id=\"searchTermMobile123\"]').click()\n",
    "# driver.find_element('xpath','//*[@id=\"searchTermMobile123\"]').send_keys('서울')\n",
    "# driver.find_element('xpath','//*[@id=\"searchTermMobile123\"]').send_keys(Keys.ENTER)"
   ]
  },
  {
   "cell_type": "code",
   "execution_count": null,
   "metadata": {
    "id": "apPPc40-_rne"
   },
   "outputs": [],
   "source": [
    "# driver.find_element('xpath','//*[@id=\"header\"]/div/div[2]/a[1]').click()\n",
    "\n",
    "# search_for = driver.find_element('xpath','//*[@id=\"searchTermMobile123\"]')\n",
    "# search_for.click()\n",
    "# search_for.send_keys('서울')\n",
    "# search_for.send_keys(Keys.ENTER)"
   ]
  },
  {
   "cell_type": "code",
   "execution_count": null,
   "metadata": {
    "id": "5CqV3XofAuIb"
   },
   "outputs": [],
   "source": [
    "#코드 4-9\n",
    "print(driver.page_source)"
   ]
  }
 ],
 "metadata": {
  "colab": {
   "authorship_tag": "ABX9TyP6uT4RwbxljYTODlUtjMXE",
   "provenance": []
  },
  "kernelspec": {
   "display_name": "Python 3 (ipykernel)",
   "language": "python",
   "name": "python3"
  },
  "language_info": {
   "codemirror_mode": {
    "name": "ipython",
    "version": 3
   },
   "file_extension": ".py",
   "mimetype": "text/x-python",
   "name": "python",
   "nbconvert_exporter": "python",
   "pygments_lexer": "ipython3",
   "version": "3.8.18"
  }
 },
 "nbformat": 4,
 "nbformat_minor": 4
}
