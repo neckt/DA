{
 "cells": [
  {
   "cell_type": "markdown",
   "metadata": {
    "id": "2DpR85VoP9B4"
   },
   "source": [
    "### **1. 변수**"
   ]
  },
  {
   "cell_type": "code",
   "execution_count": null,
   "metadata": {
    "id": "jl_dFXLbJ8MT"
   },
   "outputs": [],
   "source": [
    "#코드 2-1\n",
    "#변수에 '철수'를 담기\n",
    "name = '철수'\n",
    "print(name)\n",
    "\n",
    "#변수에 '영희'를 담기\n",
    "name = '영희'\n",
    "print(name)"
   ]
  },
  {
   "cell_type": "code",
   "execution_count": null,
   "metadata": {
    "id": "57jj3r9UKETK"
   },
   "outputs": [],
   "source": [
    "#코드 2-2\n",
    "score"
   ]
  },
  {
   "cell_type": "code",
   "execution_count": null,
   "metadata": {
    "id": "UimqztL4Km_W"
   },
   "outputs": [],
   "source": [
    "#코드 2-3\n",
    "2_name = '철수, 영희'"
   ]
  },
  {
   "cell_type": "markdown",
   "metadata": {
    "id": "6ROTEqUBQIi2"
   },
   "source": [
    "### **2. 파이썬의 상수**"
   ]
  },
  {
   "cell_type": "code",
   "execution_count": null,
   "metadata": {
    "id": "crp9sRXFKsHl"
   },
   "outputs": [],
   "source": [
    "#코드 2-4\n",
    "PI = 3.1415\n",
    "GRAVITY = 9.8"
   ]
  }
 ],
 "metadata": {
  "colab": {
   "authorship_tag": "ABX9TyPjG4+AaMMO7OGc7uXZ2q5q",
   "provenance": []
  },
  "kernelspec": {
   "display_name": "Python 3 (ipykernel)",
   "language": "python",
   "name": "python3"
  },
  "language_info": {
   "codemirror_mode": {
    "name": "ipython",
    "version": 3
   },
   "file_extension": ".py",
   "mimetype": "text/x-python",
   "name": "python",
   "nbconvert_exporter": "python",
   "pygments_lexer": "ipython3",
   "version": "3.8.18"
  }
 },
 "nbformat": 4,
 "nbformat_minor": 4
}
